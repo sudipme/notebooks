{
 "cells": [
  {
   "cell_type": "code",
   "execution_count": 2,
   "metadata": {},
   "outputs": [],
   "source": [
    "import numpy as np"
   ]
  },
  {
   "cell_type": "code",
   "execution_count": null,
   "metadata": {},
   "outputs": [],
   "source": [
    "# scaler, 0D tensor\n",
    "a = np.array(1) \n",
    "# vector, 1D tensor\n",
    "b = np.array([2,3]) \n",
    "# matrix, 2D tensor \n",
    "c = np.array([[4,5], [6,7]]) \n",
    "# 3D tensor\n",
    "d = np.array([[[4,5,0,0], [6,7,0,0]], [[4,5,0,0], [6,7,0,0]], [[4,5,0,0], [6,7,0,0]]]) "
   ]
  },
  {
   "cell_type": "markdown",
   "metadata": {},
   "source": [
    "ndim: number of dimentions\n",
    "\n",
    "shape: tuple of number of elements in each dimentions\n",
    "\n",
    "size: total number of elements\n",
    "\n",
    "dtype: data type"
   ]
  },
  {
   "cell_type": "code",
   "execution_count": null,
   "metadata": {},
   "outputs": [],
   "source": [
    "def show_properties(arr):\n",
    "    print(f'array: \\n{arr}')\n",
    "    print(f'number of dimentions: {arr.ndim}')\n",
    "    # .shape returns tuple as output\n",
    "    print(f'shape: {arr.shape}') \n",
    "    print(f'size {arr.size}')\n",
    "    print(f'data type: {arr.dtype}')\n",
    "    print(\"\\n\\n\")\n",
    "\n",
    "show_properties(a)\n",
    "show_properties(b)\n",
    "show_properties(c)\n",
    "show_properties(d)"
   ]
  },
  {
   "cell_type": "markdown",
   "metadata": {},
   "source": [
    "# Numpy functions for creating tensors"
   ]
  },
  {
   "cell_type": "code",
   "execution_count": null,
   "metadata": {},
   "outputs": [],
   "source": [
    "# .zeros(), .ones() and .random.random() takes shape tuple as input\n",
    "# .eye() takes shape of one dimention as input and creates a 2D tensor \n",
    "\n",
    "print (\"np.zeros((2,2)):\\n\", np.zeros((3,2,4)))\n",
    "print (\"np.ones((2,2)):\\n\", np.ones((2,2)))\n",
    "print (\"np.eye((2)):\\n\", np.eye((2))) # identity matrix\n",
    "print (\"np.random.random((2,2)):\\n\", np.random.random((2,2)))"
   ]
  },
  {
   "cell_type": "markdown",
   "metadata": {},
   "source": [
    "# Indexing\n",
    "- Similar to python lists\n",
    "- index start at 0\n",
    "- negative index allowed"
   ]
  },
  {
   "cell_type": "code",
   "execution_count": null,
   "metadata": {},
   "outputs": [],
   "source": [
    "arr = np.array([[[4,5,8,9], [6,7,1,2]], [[4,5,3,9], [6,7,2,6]], [[4,5,1,9], [6,7,4,7]]]) \n",
    "\n",
    "print(\"arr\", arr, \"\\n\")\n",
    "print(\"arr[2,0,1]\\n\", arr[2,0,1], \"\\n\")\n",
    "print(\"arr[1:2, 0:2, 1:3]\\n\", arr[1:2, 0:2, 1:3], \"\\n\")"
   ]
  },
  {
   "cell_type": "markdown",
   "metadata": {},
   "source": [
    "## Slicing"
   ]
  },
  {
   "cell_type": "code",
   "execution_count": null,
   "metadata": {},
   "outputs": [],
   "source": [
    "print(arr, \"\\n\")\n",
    "print (\"arr[1,:,2]\\n\", arr[1,:,2])"
   ]
  },
  {
   "cell_type": "markdown",
   "metadata": {},
   "source": [
    "## Integer array Indexing"
   ]
  },
  {
   "cell_type": "code",
   "execution_count": null,
   "metadata": {},
   "outputs": [],
   "source": [
    "x = np.array([[1,2,3,4], [5,6,7,8], [9,10,11,12]])\n",
    "\n",
    "rows = np.array([0, 1, 2])\n",
    "print (\"rows_to_get: \", rows)\n",
    "\n",
    "cols = np.array([0, 2, 1])\n",
    "print (\"cols_to_get: \", cols)\n",
    "\n",
    "# Combine sequences above to get values to get\n",
    "print (\"indexed values: \", x[rows, cols]) \n",
    "# (0, 0), (1, 2), (2, 1)"
   ]
  },
  {
   "cell_type": "markdown",
   "metadata": {},
   "source": [
    "## Boolean array indexing"
   ]
  },
  {
   "cell_type": "code",
   "execution_count": null,
   "metadata": {},
   "outputs": [],
   "source": [
    "x = np.array([[1, 2], [3, 4], [5, 6]])\n",
    "print (\"x:\\n\", x)\n",
    "print (\"x > 2:\\n\", x > 2)\n",
    "print (\"x[x > 2]:\\n\", x[x > 2])"
   ]
  },
  {
   "cell_type": "markdown",
   "metadata": {},
   "source": [
    "# Math"
   ]
  },
  {
   "cell_type": "markdown",
   "metadata": {},
   "source": [
    "## Arithmatic"
   ]
  },
  {
   "cell_type": "code",
   "execution_count": null,
   "metadata": {},
   "outputs": [],
   "source": [
    "x = np.array([[1,2], [3,4]], dtype=np.float64)\n",
    "y = np.array([[1,2], [3,4]], dtype=np.float64)\n",
    "print (\"x + y:\\n\", np.add(x, y)) # or x + y\n",
    "print (\"x - y:\\n\", np.subtract(x, y)) # or x - y\n",
    "print (\"x * y:\\n\", np.multiply(x, y)) # or x * y"
   ]
  },
  {
   "cell_type": "markdown",
   "metadata": {},
   "source": [
    "## Dot product"
   ]
  },
  {
   "cell_type": "code",
   "execution_count": 8,
   "metadata": {},
   "outputs": [
    {
     "name": "stdout",
     "output_type": "stream",
     "text": [
      "(2, 3) · (3, 2) = (2, 2)\n",
      "(2, 2) \n",
      "\n",
      "[[ 58.  64.]\n",
      " [139. 154.]] \n",
      "\n",
      "[[ 58.  64.]\n",
      " [139. 154.]] \n",
      "\n"
     ]
    }
   ],
   "source": [
    "a = np.array([[1,2,3], [4,5,6]], dtype=np.float64)\n",
    "b = np.array([[7,8], [9,10], [11, 12]], dtype=np.float64)\n",
    "c = a.dot(b)\n",
    "# or \n",
    "d = np.dot(a, b)\n",
    "print (f\"{a.shape} · {b.shape} = {c.shape}\")\n",
    "print(d.shape, \"\\n\")\n",
    "print (c, \"\\n\")\n",
    "print (d, \"\\n\")"
   ]
  },
  {
   "cell_type": "markdown",
   "metadata": {},
   "source": [
    "## Axis operations"
   ]
  },
  {
   "cell_type": "code",
   "execution_count": null,
   "metadata": {},
   "outputs": [],
   "source": [
    "x = np.array([[1,2],[3,4],[5,6]])\n",
    "print (x)\n",
    "print (\"sum all: \", np.sum(x)) # adds all elements\n",
    "print (\"sum axis=0: \", np.sum(x, axis=0)) # sum across rows\n",
    "print (\"sum axis=1: \", np.sum(x, axis=1)) # sum across columns"
   ]
  },
  {
   "cell_type": "markdown",
   "metadata": {},
   "source": [
    "### Min / max"
   ]
  },
  {
   "cell_type": "code",
   "execution_count": null,
   "metadata": {},
   "outputs": [],
   "source": [
    "x = np.array([[1,2,3], [4,5,6]])\n",
    "print (\"min: \", x.min())\n",
    "print (\"max: \", x.max())\n",
    "print (\"min axis=0: \", x.min(axis=0))\n",
    "print (\"min axis=1: \", x.min(axis=1))"
   ]
  },
  {
   "cell_type": "markdown",
   "metadata": {},
   "source": [
    "# Broadcast "
   ]
  },
  {
   "cell_type": "code",
   "execution_count": null,
   "metadata": {},
   "outputs": [],
   "source": [
    "x = np.array([[1,2], [3,2]]) # vector\n",
    "y = np.array(3) # scalar\n",
    "z = x + y\n",
    "print (\"z:\\n\", z)"
   ]
  },
  {
   "cell_type": "markdown",
   "metadata": {},
   "source": [
    "**Uninted broadcasting**"
   ]
  },
  {
   "cell_type": "code",
   "execution_count": null,
   "metadata": {},
   "outputs": [],
   "source": [
    "a = np.array((3, 4, 5))\n",
    "b = np.expand_dims(a, axis=1)\n",
    "c = a + b\n",
    "print(a, \"\\n\")\n",
    "print(b, \"\\n\")\n",
    "print(c)"
   ]
  },
  {
   "cell_type": "markdown",
   "metadata": {},
   "source": [
    "We need to be careful to ensure that a is the same shape as b if we don't want this unintentional broadcasting behavior."
   ]
  },
  {
   "cell_type": "markdown",
   "metadata": {},
   "source": [
    " np.expand_dims is used to expand the shape of an array by adding an additional axis."
   ]
  },
  {
   "cell_type": "markdown",
   "metadata": {},
   "source": [
    "# Expanding dimentions"
   ]
  },
  {
   "cell_type": "code",
   "execution_count": null,
   "metadata": {},
   "outputs": [],
   "source": [
    "a = np.array((3, 4, 5))\n",
    "b = np.expand_dims(a, axis=0)\n",
    "c = np.expand_dims(b, axis=0)\n",
    "d = np.expand_dims(b, axis=2)\n",
    "\n",
    "print(a, \"\\n\")\n",
    "print(b, \"\\n\")\n",
    "print(c, \"\\n\")\n",
    "print(d, \"\\n\")\n",
    "\n",
    "print(a.ndim, b.ndim, c.ndim, d.ndim, \"\\n\")\n",
    "print(a.shape, b.shape, c.shape, d.shape)"
   ]
  },
  {
   "cell_type": "markdown",
   "metadata": {},
   "source": [
    "# Transpose\n",
    "### Default Transposition (Reverse Dimensions):\n",
    "When using arr.T it just reverses the dimentions,\n",
    "\n",
    "for example, if dimention is (2,3,4) after transpose it becomes (4,3,2)\n",
    "\n",
    "shape before transpose: (2,3,4)\n",
    "\n",
    "shape after transpose: (4,3,2)\n",
    "\n",
    "### Transpose using Specified Axes:\n",
    "\n",
    "In the previous example if we specify the dimention like (1,0,2) that the first axis becomes the second, the second axis becomes the first, and the third axis remains unchanged.\n",
    "\n",
    "shape before transpose: (2,3,4)\n",
    "\n",
    "shape after transpose: (3,2,4)\n"
   ]
  },
  {
   "cell_type": "code",
   "execution_count": 24,
   "metadata": {},
   "outputs": [
    {
     "name": "stdout",
     "output_type": "stream",
     "text": [
      "x:\n",
      " [[1 2 3]\n",
      " [4 5 6]]\n",
      "x.shape:  (2, 3)\n",
      "y:\n",
      " [[1 4]\n",
      " [2 5]\n",
      " [3 6]]\n",
      "y.shape:  (3, 2)\n",
      "z:\n",
      " [[1 4]\n",
      " [2 5]\n",
      " [3 6]]\n",
      "z.shape:  (3, 2)\n",
      "a:\n",
      " [[[4 5 8 9]\n",
      "  [6 7 1 2]]\n",
      "\n",
      " [[4 5 3 9]\n",
      "  [6 7 2 6]]\n",
      "\n",
      " [[4 5 1 9]\n",
      "  [6 7 4 7]]]\n",
      "a.shape:  (3, 2, 4)\n",
      "a:\n",
      " [[[4 4 4]\n",
      "  [6 6 6]]\n",
      "\n",
      " [[5 5 5]\n",
      "  [7 7 7]]\n",
      "\n",
      " [[8 3 1]\n",
      "  [1 2 4]]\n",
      "\n",
      " [[9 9 9]\n",
      "  [2 6 7]]]\n",
      "a.shape:  (4, 2, 3)\n"
     ]
    }
   ],
   "source": [
    "x = np.array([[1,2,3], [4,5,6]])\n",
    "print (\"x:\\n\", x)\n",
    "print (\"x.shape: \", x.shape)\n",
    "y = np.transpose(x, (1,0)) # flip dimensions at index 0 and 1\n",
    "print (\"y:\\n\", y)\n",
    "print (\"y.shape: \", y.shape)\n",
    "\n",
    "# or\n",
    "z = x.T\n",
    "print (\"z:\\n\", z)\n",
    "print (\"z.shape: \", z.shape)\n",
    "\n",
    "a = np.array([[[4,5,8,9], [6,7,1,2]], [[4,5,3,9], [6,7,2,6]], [[4,5,1,9], [6,7,4,7]]]) \n",
    "print (\"a:\\n\", a)\n",
    "print (\"a.shape: \", a.shape)\n",
    "\n",
    "b = a.T\n",
    "print (\"b:\\n\", b)\n",
    "print (\"b.shape: \", b.shape)\n",
    "\n",
    "\n",
    "c = np.transpose(a, (1,0,2))\n",
    "print (\"c:\\n\", c)\n",
    "print (\"c.shape: \", c.shape)"
   ]
  },
  {
   "cell_type": "markdown",
   "metadata": {},
   "source": [
    "# Reshape\n",
    "np.reshape() takes the original array and desired shape tuple as input.\n",
    "\n",
    "We can pass one unknown shape to the shape tuple as (-1) and the method will infer the shape based on shapes of other dimentions. We can only pass one unknown dimention."
   ]
  },
  {
   "cell_type": "code",
   "execution_count": 21,
   "metadata": {},
   "outputs": [
    {
     "name": "stdout",
     "output_type": "stream",
     "text": [
      "[[1 2 3 4 5 6]]\n",
      "x.shape:  (1, 6)\n",
      "y: \n",
      " [[1 2 3]\n",
      " [4 5 6]]\n",
      "y.shape:  (2, 3)\n",
      "z: \n",
      " [[1 2 3]\n",
      " [4 5 6]]\n",
      "z.shape:  (2, 3)\n",
      "a: \n",
      " [[[ 1  2]\n",
      "  [ 3  4]]\n",
      "\n",
      " [[ 5  6]\n",
      "  [ 7  8]]\n",
      "\n",
      " [[ 9 10]\n",
      "  [11 12]]]\n",
      "a.shape:  (3, 2, 2)\n"
     ]
    }
   ],
   "source": [
    "x = np.array([[1,2,3,4,5,6]])\n",
    "print (x)\n",
    "print (\"x.shape: \", x.shape)\n",
    "y = np.reshape(x, (2, 3))\n",
    "print (\"y: \\n\", y)\n",
    "print (\"y.shape: \", y.shape)\n",
    "z = np.reshape(x, (2, -1))\n",
    "print (\"z: \\n\", z)\n",
    "print (\"z.shape: \", z.shape)\n",
    "\n",
    "x = np.array([[1,2,3,4,5,6,7,8,9,10,11,12]])\n",
    "a = np.reshape(x, (3,2, -1))\n",
    "print (\"a: \\n\", a)\n",
    "print (\"a.shape: \", a.shape)"
   ]
  },
  {
   "cell_type": "markdown",
   "metadata": {},
   "source": [
    "### Unintended Reshape"
   ]
  },
  {
   "cell_type": "code",
   "execution_count": 4,
   "metadata": {},
   "outputs": [
    {
     "name": "stdout",
     "output_type": "stream",
     "text": [
      "x:\n",
      " [[[ 1  1  1  1]\n",
      "  [ 2  2  2  2]\n",
      "  [ 3  3  3  3]]\n",
      "\n",
      " [[10 10 10 10]\n",
      "  [20 20 20 20]\n",
      "  [30 30 30 30]]]\n",
      "x.shape:  (2, 3, 4)\n"
     ]
    }
   ],
   "source": [
    "x = np.array([[[1, 1, 1, 1], [2, 2, 2, 2], [3, 3, 3, 3]],\n",
    "            [[10, 10, 10, 10], [20, 20, 20, 20], [30, 30, 30, 30]]])\n",
    "print (\"x:\\n\", x)\n",
    "print (\"x.shape: \", x.shape)"
   ]
  },
  {
   "cell_type": "markdown",
   "metadata": {},
   "source": [
    "**want to reshape like**\n",
    "\n",
    "[[ 1  1  1  1 10 10 10 10]\n",
    "\n",
    "[ 2  2  2  2 20 20 20 20]\n",
    "\n",
    "[ 3  3  3  3 30 30 30 30]]\n",
    "\n",
    "but if reshape normally we get,\n",
    "\n",
    "[[ 1  1  1  1  2  2  2  2]\n",
    "\n",
    "[ 3  3  3  3 10 10 10 10]\n",
    "\n",
    "[20 20 20 20 30 30 30 30]]"
   ]
  },
  {
   "cell_type": "code",
   "execution_count": 28,
   "metadata": {},
   "outputs": [
    {
     "name": "stdout",
     "output_type": "stream",
     "text": [
      "y:\n",
      " [[ 1  1  1  1  2  2  2  2]\n",
      " [ 3  3  3  3 10 10 10 10]\n",
      " [20 20 20 20 30 30 30 30]]\n",
      "y.shape:  (3, 8)\n"
     ]
    }
   ],
   "source": [
    "y = np.reshape(x, (3,8))\n",
    "print (\"y:\\n\", y)\n",
    "print (\"y.shape: \", y.shape)"
   ]
  },
  {
   "cell_type": "markdown",
   "metadata": {},
   "source": [
    "### correct way of reshaping previous array\n",
    "\n",
    "If we transpose the tensor and then do a reshape, we get our desired tensor. Transpose allows us to put our two vectors that we want to combine together and then we use reshape to join them together.\n",
    "\n",
    "**As a general rule, we should always get our dimensions together before reshaping to combine them.**"
   ]
  },
  {
   "cell_type": "code",
   "execution_count": 5,
   "metadata": {},
   "outputs": [
    {
     "name": "stdout",
     "output_type": "stream",
     "text": [
      "z:\n",
      " [[[ 1  1  1  1]\n",
      "  [10 10 10 10]]\n",
      "\n",
      " [[ 2  2  2  2]\n",
      "  [20 20 20 20]]\n",
      "\n",
      " [[ 3  3  3  3]\n",
      "  [30 30 30 30]]]\n",
      "z.shape:  (3, 2, 4)\n",
      "a:\n",
      " [[ 1  1  1  1 10 10 10 10]\n",
      " [ 2  2  2  2 20 20 20 20]\n",
      " [ 3  3  3  3 30 30 30 30]]\n",
      "a.shape:  (3, 8)\n"
     ]
    }
   ],
   "source": [
    "z = np.transpose(x, (1,0,2))\n",
    "a = np.reshape(z, (3,8))\n",
    "\n",
    "print (\"z:\\n\", z)\n",
    "print (\"z.shape: \", z.shape)\n",
    "\n",
    "print (\"a:\\n\", a)\n",
    "print (\"a.shape: \", a.shape)"
   ]
  },
  {
   "cell_type": "markdown",
   "metadata": {},
   "source": [
    "# Joining"
   ]
  },
  {
   "cell_type": "code",
   "execution_count": 30,
   "metadata": {},
   "outputs": [
    {
     "name": "stdout",
     "output_type": "stream",
     "text": [
      "[[4 5 8 9]\n",
      " [4 5 3 9]\n",
      " [4 5 1 9]]\n",
      "(3, 4)\n"
     ]
    }
   ],
   "source": [
    "x = np.array(\n",
    "    [\n",
    "        [4, 5, 8, 9],\n",
    "        [4, 5, 3, 9],\n",
    "        [4, 5, 1, 9],\n",
    "    ]\n",
    ")\n",
    "print (x)\n",
    "print (x.shape)"
   ]
  },
  {
   "cell_type": "code",
   "execution_count": 11,
   "metadata": {},
   "outputs": [
    {
     "name": "stdout",
     "output_type": "stream",
     "text": [
      "[[0.08275736 0.55136171 0.49452921]\n",
      " [0.80023976 0.39510782 0.03265257]\n",
      " [0.08275736 0.55136171 0.49452921]\n",
      " [0.80023976 0.39510782 0.03265257]]\n",
      "(4, 3)\n"
     ]
    }
   ],
   "source": [
    "# Concatenation\n",
    "y = np.concatenate([x, x], axis=0)  # concat on a specified axis\n",
    "print(y)\n",
    "print(y.shape)\n"
   ]
  },
  {
   "cell_type": "code",
   "execution_count": 33,
   "metadata": {},
   "outputs": [
    {
     "name": "stdout",
     "output_type": "stream",
     "text": [
      "[[4 5 8 9]\n",
      " [4 5 3 9]\n",
      " [4 5 1 9]]\n",
      "[[[4 5 8 9]\n",
      "  [4 5 8 9]]\n",
      "\n",
      " [[4 5 3 9]\n",
      "  [4 5 3 9]]\n",
      "\n",
      " [[4 5 1 9]\n",
      "  [4 5 1 9]]]\n",
      "(3, 2, 4)\n"
     ]
    }
   ],
   "source": [
    "# Stacking\n",
    "z = np.stack([x, x], axis=1)  # stack on new axis\n",
    "print(x)\n",
    "print(z)\n",
    "print(z.shape)"
   ]
  },
  {
   "cell_type": "markdown",
   "metadata": {},
   "source": [
    "# Expanding and Reducing Dimentions\n",
    "\n",
    "This can also be done by using reshape()"
   ]
  },
  {
   "cell_type": "code",
   "execution_count": 34,
   "metadata": {},
   "outputs": [
    {
     "name": "stdout",
     "output_type": "stream",
     "text": [
      "x:\n",
      " [[1 2 3]\n",
      " [4 5 6]]\n",
      "x.shape:  (2, 3)\n",
      "y: \n",
      " [[[1 2 3]]\n",
      "\n",
      " [[4 5 6]]]\n",
      "y.shape:  (2, 1, 3)\n"
     ]
    }
   ],
   "source": [
    "# Adding dimensions\n",
    "x = np.array([[1, 2, 3], [4, 5, 6]])\n",
    "print(\"x:\\n\", x)\n",
    "print(\"x.shape: \", x.shape)\n",
    "y = np.expand_dims(x, 1)  # expand dim 1\n",
    "print(\"y: \\n\", y)\n",
    "print(\"y.shape: \", y.shape)  # notice extra set of brackets are added"
   ]
  },
  {
   "cell_type": "code",
   "execution_count": 37,
   "metadata": {},
   "outputs": [
    {
     "name": "stdout",
     "output_type": "stream",
     "text": [
      "x:\n",
      " [[[1 2 3]]\n",
      "\n",
      " [[4 5 6]]]\n",
      "x.shape:  (2, 1, 3)\n",
      "y: \n",
      " [[1 2 3]\n",
      " [4 5 6]]\n",
      "y.shape:  (2, 3)\n"
     ]
    }
   ],
   "source": [
    "# Removing dimensions\n",
    "x = np.array([[[1, 2, 3]], [[4, 5, 6]]])\n",
    "print(\"x:\\n\", x)\n",
    "print(\"x.shape: \", x.shape)\n",
    "y = np.squeeze(x, 1)  # squeeze dim 1\n",
    "print(\"y: \\n\", y)\n",
    "print(\"y.shape: \", y.shape)  # notice extra set of brackets are gone\n"
   ]
  }
 ],
 "metadata": {
  "kernelspec": {
   "display_name": "Python 3",
   "language": "python",
   "name": "python3"
  },
  "language_info": {
   "codemirror_mode": {
    "name": "ipython",
    "version": 3
   },
   "file_extension": ".py",
   "mimetype": "text/x-python",
   "name": "python",
   "nbconvert_exporter": "python",
   "pygments_lexer": "ipython3",
   "version": "3.12.3"
  }
 },
 "nbformat": 4,
 "nbformat_minor": 2
}
