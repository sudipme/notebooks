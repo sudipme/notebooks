{
 "cells": [
  {
   "cell_type": "markdown",
   "id": "d4db444f-8894-4467-bed4-254188f506a5",
   "metadata": {},
   "source": [
    "We should save every model you experiment with, so you can come back easily to any model you want. Make sure you save both the hyperparameters and the trained parameters, as well as the cross-validation scores and perhaps the actual predictions as well. This will allow you to easily compare scores across model types, and compare the types of errors they make. You can easily save Scikit-Learn models by using Python’s pickle module, or using sklearn.externals.joblib, which is more efficient at serializing large NumPy arrays:"
   ]
  },
  {
   "cell_type": "markdown",
   "id": "5bed9317",
   "metadata": {},
   "source": [
    "**Saving Model**"
   ]
  },
  {
   "cell_type": "code",
   "execution_count": null,
   "id": "aeed1015-48ee-4855-a4cc-dc06b300f2a9",
   "metadata": {},
   "outputs": [],
   "source": [
    "from sklearn.externals import joblib\n",
    "joblib.dump(my_model, \"my_model.pkl\")"
   ]
  },
  {
   "cell_type": "markdown",
   "id": "c9ec27bf",
   "metadata": {},
   "source": [
    "**Loading Model**"
   ]
  },
  {
   "cell_type": "code",
   "execution_count": null,
   "id": "e7d1eef7",
   "metadata": {
    "vscode": {
     "languageId": "plaintext"
    }
   },
   "outputs": [],
   "source": [
    "my_model_loaded = joblib.load(\"my_model.pkl\")"
   ]
  }
 ],
 "metadata": {
  "kernelspec": {
   "display_name": "Python 3 (ipykernel)",
   "language": "python",
   "name": "python3"
  },
  "language_info": {
   "codemirror_mode": {
    "name": "ipython",
    "version": 3
   },
   "file_extension": ".py",
   "mimetype": "text/x-python",
   "name": "python",
   "nbconvert_exporter": "python",
   "pygments_lexer": "ipython3",
   "version": "3.12.3"
  }
 },
 "nbformat": 4,
 "nbformat_minor": 5
}
