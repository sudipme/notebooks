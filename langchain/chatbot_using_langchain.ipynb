{
 "cells": [
  {
   "cell_type": "markdown",
   "id": "86024007-eb85-4014-906d-fdedeaf03c91",
   "metadata": {},
   "source": [
    "# Chatbots and Message history"
   ]
  },
  {
   "cell_type": "code",
   "execution_count": 1,
   "id": "897c3958-fed8-4f50-83d6-c9914066896c",
   "metadata": {},
   "outputs": [],
   "source": [
    "from langchain_openai import ChatOpenAI\n",
    "from langchain_core.messages import HumanMessage\n",
    "model = ChatOpenAI(model='gpt-3.5-turbo')"
   ]
  },
  {
   "cell_type": "markdown",
   "id": "16d20b66-2910-4419-8e21-9d5bdfafc9c2",
   "metadata": {},
   "source": [
    "## Message history"
   ]
  },
  {
   "cell_type": "markdown",
   "id": "bf4b7fb0-89ac-450d-a5f7-f07133c06b07",
   "metadata": {},
   "source": [
    "### Basic idea"
   ]
  },
  {
   "cell_type": "code",
   "execution_count": 3,
   "id": "623e09c1-076d-4216-b259-8b4d6162cc05",
   "metadata": {},
   "outputs": [
    {
     "data": {
      "text/plain": [
       "'Your name is Bob.'"
      ]
     },
     "execution_count": 3,
     "metadata": {},
     "output_type": "execute_result"
    }
   ],
   "source": [
    "from langchain_core.messages import HumanMessage, AIMessage\n",
    "\n",
    "response = model.invoke(\n",
    "    [\n",
    "        HumanMessage(content=\"Hi! I'm Bob\"),\n",
    "        AIMessage(content=\"Hello Bob! How can I assist you today?\"),\n",
    "        HumanMessage(content=\"What's my name?\"),\n",
    "    ]\n",
    ")\n",
    "\n",
    "response.content"
   ]
  },
  {
   "cell_type": "markdown",
   "id": "fce14a17-7a4c-46d6-bffa-e9d6f70ae44e",
   "metadata": {},
   "source": [
    "### With ChatMessageHistory"
   ]
  },
  {
   "cell_type": "code",
   "execution_count": 2,
   "id": "6d8b5177-91ec-4839-9c08-fc4571d0cd2e",
   "metadata": {},
   "outputs": [],
   "source": [
    "from langchain_community.chat_message_histories import ChatMessageHistory\n",
    "from langchain_core.chat_history import BaseChatMessageHistory\n",
    "from langchain_core.runnables.history import RunnableWithMessageHistory\n",
    "\n",
    "store = {}\n",
    "\n",
    "def get_session_history(session_id: str) -> BaseChatMessageHistory:\n",
    "    if session_id not in store:\n",
    "        store[session_id] = ChatMessageHistory()\n",
    "    return store[session_id]\n",
    "\n",
    "with_message_history = RunnableWithMessageHistory(model, get_session_history)"
   ]
  },
  {
   "cell_type": "code",
   "execution_count": 3,
   "id": "8ae2cc24-fb2e-48a1-92f6-003423d0a0fa",
   "metadata": {},
   "outputs": [],
   "source": [
    "config = {\"configurable\": {\"session_id\": \"session1\"}}"
   ]
  },
  {
   "cell_type": "code",
   "execution_count": 6,
   "id": "b3747dee-cad5-4bb5-93af-bbc36831e2bc",
   "metadata": {},
   "outputs": [
    {
     "data": {
      "text/plain": [
       "'Hello Sudip! How can I assist you today?'"
      ]
     },
     "execution_count": 6,
     "metadata": {},
     "output_type": "execute_result"
    }
   ],
   "source": [
    "response = with_message_history.invoke(\n",
    "    [HumanMessage(content=\"Hi! I'm Sudip\")],\n",
    "    config=config,\n",
    ")\n",
    "response.content"
   ]
  },
  {
   "cell_type": "markdown",
   "id": "b777625b-db9b-4c0b-90df-1b1071baebca",
   "metadata": {},
   "source": [
    "**Test if the model can remember my previous chat**"
   ]
  },
  {
   "cell_type": "code",
   "execution_count": 7,
   "id": "417e6e4a-3a4f-4909-98d2-a5d60c97d24f",
   "metadata": {},
   "outputs": [
    {
     "data": {
      "text/plain": [
       "'Your name is Sudip.'"
      ]
     },
     "execution_count": 7,
     "metadata": {},
     "output_type": "execute_result"
    }
   ],
   "source": [
    "config = {\"configurable\": {\"session_id\": \"session1\"}}\n",
    "response = with_message_history.invoke(\n",
    "    [HumanMessage(content=\"what is my name?\")],\n",
    "    config=config,\n",
    ")\n",
    "response.content"
   ]
  },
  {
   "cell_type": "markdown",
   "id": "8d0ec150-3ff4-4713-ba61-a9828eefa086",
   "metadata": {},
   "source": [
    "**Now if provided new session id, model can't access my chat history**"
   ]
  },
  {
   "cell_type": "code",
   "execution_count": 8,
   "id": "3bb13a26-bfde-427f-979e-a7d46e61e07c",
   "metadata": {},
   "outputs": [
    {
     "data": {
      "text/plain": [
       "\"I'm sorry, I do not know your name as I am an AI assistant and do not have access to personal information.\""
      ]
     },
     "execution_count": 8,
     "metadata": {},
     "output_type": "execute_result"
    }
   ],
   "source": [
    "config = {\"configurable\": {\"session_id\": \"session2\"}}\n",
    "response = with_message_history.invoke(\n",
    "    [HumanMessage(content=\"what is my name?\")],\n",
    "    config=config,\n",
    ")\n",
    "response.content"
   ]
  },
  {
   "cell_type": "markdown",
   "id": "0b9a50b7-01b8-4897-a793-984a21c916b1",
   "metadata": {},
   "source": [
    "## Using prompt template with message history"
   ]
  },
  {
   "cell_type": "code",
   "execution_count": 29,
   "id": "4c41b17a-244b-40ab-b1a2-c66041814e10",
   "metadata": {},
   "outputs": [],
   "source": [
    "from langchain_core.prompts import ChatPromptTemplate, MessagesPlaceholder\n",
    "from langchain_core.output_parsers import StrOutputParser\n",
    "\n",
    "prompt = ChatPromptTemplate.from_messages(\n",
    "    [\n",
    "        (\n",
    "            \"system\",\n",
    "            \"You are a helpful assistant. Answer all the questions to the best of your ability. In the final output first print your ourput in english and then translate it. Output must be in the format mentioned in the triple backticks. Output Fotmat: ```your output.  Translation: Translation of your outpput into {language}``` \"\n",
    "        ),\n",
    "        MessagesPlaceholder(variable_name=\"messages\"),\n",
    "    ]\n",
    ")\n",
    "\n",
    "parser = StrOutputParser()\n",
    "chain = prompt | model | parser"
   ]
  },
  {
   "cell_type": "code",
   "execution_count": 30,
   "id": "a072d678-0fdd-4234-8337-156ce73415cf",
   "metadata": {},
   "outputs": [
    {
     "data": {
      "text/plain": [
       "'Hello Sudip! How can I assist you today?  \\nTranslation: Ciao Sudip! Come posso aiutarti oggi?'"
      ]
     },
     "execution_count": 30,
     "metadata": {},
     "output_type": "execute_result"
    }
   ],
   "source": [
    "response = chain.invoke({\n",
    "    \"messages\": [HumanMessage(content=\"hi! I'm sudip\")],\n",
    "    \"language\": \"Italian\",\n",
    "})\n",
    "\n",
    "response"
   ]
  },
  {
   "cell_type": "markdown",
   "id": "6654981c-20ec-429b-bfd4-0807bf2aa4f7",
   "metadata": {},
   "source": [
    "**Wrapping the model with Message History object**"
   ]
  },
  {
   "cell_type": "code",
   "execution_count": 35,
   "id": "13f6b99f-8e30-4375-814d-df0b7a2deb33",
   "metadata": {},
   "outputs": [],
   "source": [
    "with_message_history = RunnableWithMessageHistory(\n",
    "    chain, \n",
    "    get_session_history,\n",
    "    input_messages_key=\"messages\"\n",
    ")"
   ]
  },
  {
   "cell_type": "code",
   "execution_count": 36,
   "id": "a932e427-dc85-4916-bd43-cdfd47f7f291",
   "metadata": {},
   "outputs": [],
   "source": [
    "config = {\"configurable\": {\"session_id\": \"session3\"}}"
   ]
  },
  {
   "cell_type": "code",
   "execution_count": 39,
   "id": "dafcbbcb-c388-4083-a96b-3ca1873a0aae",
   "metadata": {},
   "outputs": [
    {
     "data": {
      "text/plain": [
       "'Hello Sudip! How can I assist you today?  \\nTranslation: Ciao Sudip! Come posso aiutarti oggi?'"
      ]
     },
     "execution_count": 39,
     "metadata": {},
     "output_type": "execute_result"
    }
   ],
   "source": [
    "response = with_message_history.invoke(\n",
    "    {\n",
    "        \"messages\": [HumanMessage(content=\"hi! I am Sudip.\")],\n",
    "        \"language\": \"Italian\",\n",
    "    },\n",
    "    config=config,\n",
    ")\n",
    "response"
   ]
  },
  {
   "cell_type": "code",
   "execution_count": 40,
   "id": "a01211ec-658e-4c4f-a928-c9edd611ff19",
   "metadata": {},
   "outputs": [
    {
     "data": {
      "text/plain": [
       "'Your name is Sudip.  \\nTranslation: Il tuo nome è Sudip.  '"
      ]
     },
     "execution_count": 40,
     "metadata": {},
     "output_type": "execute_result"
    }
   ],
   "source": [
    "response = with_message_history.invoke(\n",
    "    {\n",
    "        \"messages\": [HumanMessage(content=\"what is my name?\")],\n",
    "        \"language\": \"Italian\",\n",
    "    },\n",
    "    config=config,\n",
    ")\n",
    "response"
   ]
  },
  {
   "cell_type": "markdown",
   "id": "2d56e7b1-5fe1-45d4-b99c-10084d5f243b",
   "metadata": {},
   "source": [
    "## Managing increasing conversation \n",
    "\n",
    "Importantly, you will want to do this BEFORE the prompt template but AFTER you load previous messages from Message History."
   ]
  },
  {
   "cell_type": "code",
   "execution_count": 46,
   "id": "b61e74e6-57a0-4ffa-b4b7-2d1c5f3ffef3",
   "metadata": {},
   "outputs": [],
   "source": [
    "from langchain_core.messages import SystemMessage, AIMessage, trim_messages\n",
    "\n",
    "trimmer = trim_messages(\n",
    "    max_tokens=65,\n",
    "    strategy=\"last\",\n",
    "    token_counter=model,\n",
    "    include_system=True,\n",
    "    allow_partial=False,\n",
    "    start_on=\"human\",\n",
    ")"
   ]
  },
  {
   "cell_type": "markdown",
   "id": "ef1b5520-7eaa-48cc-a634-5c48cdbb5265",
   "metadata": {},
   "source": [
    "invoking trimmer in messages will reduce the number of messages passes"
   ]
  },
  {
   "cell_type": "code",
   "execution_count": 47,
   "id": "9a2bec33-4a46-4786-b2f3-4285d97f3917",
   "metadata": {},
   "outputs": [
    {
     "data": {
      "text/plain": [
       "[SystemMessage(content=\"you're a good assistant\"),\n",
       " HumanMessage(content='whats 2 + 2'),\n",
       " AIMessage(content='4'),\n",
       " HumanMessage(content='thanks'),\n",
       " AIMessage(content='no problem!'),\n",
       " HumanMessage(content='having fun?'),\n",
       " AIMessage(content='yes!')]"
      ]
     },
     "execution_count": 47,
     "metadata": {},
     "output_type": "execute_result"
    }
   ],
   "source": [
    "messages = [\n",
    "    SystemMessage(content=\"you're a good assistant\"),\n",
    "    HumanMessage(content=\"hi! I'm bob\"),\n",
    "    AIMessage(content=\"hi!\"),\n",
    "    HumanMessage(content=\"I like vanilla ice cream\"),\n",
    "    AIMessage(content=\"nice\"),\n",
    "    HumanMessage(content=\"whats 2 + 2\"),\n",
    "    AIMessage(content=\"4\"),\n",
    "    HumanMessage(content=\"thanks\"),\n",
    "    AIMessage(content=\"no problem!\"),\n",
    "    HumanMessage(content=\"having fun?\"),\n",
    "    AIMessage(content=\"yes!\"),\n",
    "]\n",
    "\n",
    "trimmer.invoke(messages)"
   ]
  },
  {
   "cell_type": "markdown",
   "id": "3897095d-48a1-401b-8fdd-dc4aacaf2308",
   "metadata": {},
   "source": [
    "To use it in our chain, we just need to run the trimmer before we pass the messages input to our prompt."
   ]
  },
  {
   "cell_type": "markdown",
   "id": "3f47be96-9211-454e-bfe9-2a7852d74a8c",
   "metadata": {},
   "source": [
    "### without message history wrapper"
   ]
  },
  {
   "cell_type": "code",
   "execution_count": 48,
   "id": "047e4c2e-66ab-4573-8f3e-2df89826f37b",
   "metadata": {},
   "outputs": [
    {
     "data": {
      "text/plain": [
       "\"I'm sorry, I don't know your name.\""
      ]
     },
     "execution_count": 48,
     "metadata": {},
     "output_type": "execute_result"
    }
   ],
   "source": [
    "from operator import itemgetter\n",
    "\n",
    "from langchain_core.runnables import RunnablePassthrough\n",
    "\n",
    "chain = (\n",
    "    RunnablePassthrough.assign(messages=itemgetter(\"messages\") | trimmer)\n",
    "    | prompt\n",
    "    | model\n",
    ")\n",
    "\n",
    "response = chain.invoke(\n",
    "    {\n",
    "        \"messages\": messages + [HumanMessage(content=\"what's my name?\")],\n",
    "        \"language\": \"italian\"\n",
    "    }\n",
    ")\n",
    "\n",
    "response.content"
   ]
  },
  {
   "cell_type": "code",
   "execution_count": 49,
   "id": "cf6b927a-3780-4e3d-9435-5a2cecda42ac",
   "metadata": {},
   "outputs": [
    {
     "data": {
      "text/plain": [
       "'you asked \"what\\'s 2 + 2\"'"
      ]
     },
     "execution_count": 49,
     "metadata": {},
     "output_type": "execute_result"
    }
   ],
   "source": [
    "response = chain.invoke(\n",
    "    {\n",
    "        \"messages\": messages + [HumanMessage(content=\"what math problem did i ask\")],\n",
    "        \"language\": \"English\",\n",
    "    }\n",
    ")\n",
    "response.content"
   ]
  },
  {
   "cell_type": "markdown",
   "id": "bb9124d1-c786-41c0-9f79-926616f8fa7b",
   "metadata": {},
   "source": [
    "### with message history wrapper"
   ]
  },
  {
   "cell_type": "code",
   "execution_count": 50,
   "id": "67350ae1-fccc-4465-bbcf-5309c363475e",
   "metadata": {},
   "outputs": [],
   "source": [
    "with_message_history = RunnableWithMessageHistory(\n",
    "    chain,\n",
    "    get_session_history,\n",
    "    input_messages_key=\"messages\"\n",
    ")\n",
    "\n",
    "config = {\"configurable\": {\"session_id\": \"session4\"}}"
   ]
  },
  {
   "cell_type": "code",
   "execution_count": 51,
   "id": "e4bda75c-b1d3-4c39-abc7-1511e1741209",
   "metadata": {},
   "outputs": [
    {
     "data": {
      "text/plain": [
       "\"I'm sorry, I do not have access to personal information.\""
      ]
     },
     "execution_count": 51,
     "metadata": {},
     "output_type": "execute_result"
    }
   ],
   "source": [
    "response = with_message_history.invoke(\n",
    "    {\n",
    "        \"messages\": messages + [HumanMessage(content=\"whats my name?\")],\n",
    "        \"language\": \"Italian\",\n",
    "    },\n",
    "    config=config,\n",
    ")\n",
    "response.content"
   ]
  },
  {
   "cell_type": "markdown",
   "id": "6966d922-9f66-419b-b2cb-b5ba0d22982a",
   "metadata": {},
   "source": [
    "For testing we have added more messages so the message where I had mentioned my name is trimmed"
   ]
  },
  {
   "cell_type": "markdown",
   "id": "33271a43-b459-4e28-9bf4-8fa45b003ebd",
   "metadata": {},
   "source": [
    "# Streaming"
   ]
  },
  {
   "cell_type": "code",
   "execution_count": 55,
   "id": "fbf7da94-9721-4c1d-8cca-3802ddae1f1e",
   "metadata": {},
   "outputs": [
    {
     "name": "stdout",
     "output_type": "stream",
     "text": [
      " Hello  Sud ip !  It 's  nice  to  meet  you .  How  can  I  assist  you  today ?\n",
      " ``` Hello  Sud ip !  È  un  pi ac ere  con os cert i .  Come  pos so  ai ut arti  oggi ? ```  "
     ]
    }
   ],
   "source": [
    "config = {\"configurable\": {\"session_id\": \"session5\"}}\n",
    "\n",
    "for r in with_message_history.stream(\n",
    "    {\n",
    "        \"messages\": [HumanMessage(content=\"hi! I am sudip. I am a Computer Science Undergrad.\")],\n",
    "        \"language\": \"italian\",\n",
    "    },\n",
    "    config=config,\n",
    "):\n",
    "    print(r.content, end=\" \")"
   ]
  },
  {
   "cell_type": "code",
   "execution_count": null,
   "id": "15788e63-07ea-47a8-a628-c2f09a58bc52",
   "metadata": {},
   "outputs": [],
   "source": []
  }
 ],
 "metadata": {
  "kernelspec": {
   "display_name": "Python 3",
   "language": "python",
   "name": "python3"
  },
  "language_info": {
   "codemirror_mode": {
    "name": "ipython",
    "version": 3
   },
   "file_extension": ".py",
   "mimetype": "text/x-python",
   "name": "python",
   "nbconvert_exporter": "python",
   "pygments_lexer": "ipython3",
   "version": "3.12.3"
  }
 },
 "nbformat": 4,
 "nbformat_minor": 5
}
