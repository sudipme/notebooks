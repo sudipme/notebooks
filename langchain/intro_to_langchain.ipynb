{
 "cells": [
  {
   "cell_type": "code",
   "execution_count": 1,
   "id": "3cf987c3-403f-468e-819f-0323bacc74d1",
   "metadata": {},
   "outputs": [],
   "source": [
    "import os\n",
    "from openai import OpenAI"
   ]
  },
  {
   "cell_type": "code",
   "execution_count": 2,
   "id": "0991b6e3-b97e-4620-9993-a88b31723a20",
   "metadata": {},
   "outputs": [],
   "source": [
    "# client = OpenAI(\n",
    "#     api_key = os.environ['OPENAI_API_KEY'] The constructor now fetches api_key by itsels.\n",
    "# )\n",
    "\n",
    "client = OpenAI()"
   ]
  },
  {
   "cell_type": "markdown",
   "id": "d01d9688-9914-4f31-987a-d10a15b60c05",
   "metadata": {},
   "source": [
    "# chat completion\n"
   ]
  },
  {
   "cell_type": "code",
   "execution_count": 3,
   "id": "3687a68a-5e46-4883-8f54-cbe6138e7567",
   "metadata": {},
   "outputs": [],
   "source": [
    "def get_completion(prompt, model=\"gpt-3.5-turbo\"):\n",
    "    messages = [{\"role\": \"user\", \"content\": prompt}]\n",
    "    response = client.chat.completions.create(\n",
    "        model=model,\n",
    "        messages=messages,\n",
    "        temperature=0.0,\n",
    "    )\n",
    "    return response.choices[0].message.content\n",
    "    "
   ]
  },
  {
   "cell_type": "markdown",
   "id": "8e5d01c3-6f3b-4d31-963d-c581de2afd04",
   "metadata": {},
   "source": [
    "### Response structure\n",
    "\n",
    "```\n",
    "ChatCompletion(\n",
    "    id='chatcmpl-9eNYu4oeZ4UHW5mrlIiAR7DETWmzF',\n",
    "    choices=[\n",
    "        Choice(\n",
    "        finish_reason='stop', index=0, logprobs=None,\n",
    "        message=ChatCompletionMessage(\n",
    "        content='OUTPUT_MESSAGE',\n",
    "        role='assistant', function_call=None, tool_calls=None))],\n",
    "        created=1719410720,\n",
    "        model='gpt-3.5-turbo-0125',\n",
    "        object='chat.completion',\n",
    "        service_tier=None,\n",
    "        system_fingerprint=None,\n",
    "        usage=CompletionUsage(completion_tokens=222, prompt_tokens=21, total_tokens=243)\n",
    ")\n",
    "```"
   ]
  },
  {
   "cell_type": "code",
   "execution_count": 4,
   "id": "882e064c-525d-4288-ad77-02663b9c98eb",
   "metadata": {},
   "outputs": [
    {
     "data": {
      "text/plain": [
       "'1+1 equals 2.'"
      ]
     },
     "execution_count": 4,
     "metadata": {},
     "output_type": "execute_result"
    }
   ],
   "source": [
    "get_completion(\"what is 1+1\")"
   ]
  },
  {
   "cell_type": "markdown",
   "id": "445e0fc6-2ca8-4383-a5cb-576fa5659d9e",
   "metadata": {},
   "source": [
    "# Introduction to Langchain chat APIs and LangChain Expression Language (LCEL)\n",
    "\n",
    "- langchain_openai.ChatOpenAI\n",
    "- langchain.chat_models.ChatOpenAI\n",
    "- langchain_core.messages.(HumanMessage, SystemMessage)\n",
    "- langchain_core.output_parsers.StrOutputParser\n",
    "- langchain_core.prompts.ChatPromptTemplate"
   ]
  },
  {
   "cell_type": "markdown",
   "id": "9ee05d1b-ca7e-44a1-8c2a-65f54361e8d8",
   "metadata": {},
   "source": [
    "## Using models directly"
   ]
  },
  {
   "cell_type": "code",
   "execution_count": 23,
   "id": "59972979-73a7-4c45-a75d-0e7cc7e78973",
   "metadata": {},
   "outputs": [],
   "source": [
    "from langchain_openai import ChatOpenAI\n",
    "\n",
    "model = ChatOpenAI(model=\"gpt-3.5-turbo\")"
   ]
  },
  {
   "cell_type": "markdown",
   "id": "0dd5499c-8325-4702-a43c-69e1dbd4cb09",
   "metadata": {},
   "source": [
    "### Creating model "
   ]
  },
  {
   "cell_type": "code",
   "execution_count": 24,
   "id": "d0421450-77c6-4574-ac4f-79171f0a3a9e",
   "metadata": {},
   "outputs": [],
   "source": [
    "from langchain_core.messages import HumanMessage, SystemMessage\n",
    "\n",
    "messages = [\n",
    "    SystemMessage(content=\"Translate the following text from English into Italian\"),\n",
    "    HumanMessage(content=\"I am Bharatiya.\"),\n",
    "]\n",
    "\n",
    "result = model.invoke(messages) # String output"
   ]
  },
  {
   "cell_type": "markdown",
   "id": "70f8c012-7f14-4b41-b20e-c53ad7c92836",
   "metadata": {},
   "source": [
    "### Parsing output"
   ]
  },
  {
   "cell_type": "code",
   "execution_count": 26,
   "id": "9eb85583-7fdf-477e-a154-b054a253efd6",
   "metadata": {},
   "outputs": [],
   "source": [
    "from langchain_core.output_parsers import StrOutputParser\n",
    "\n",
    "parser = StrOutputParser()"
   ]
  },
  {
   "cell_type": "markdown",
   "id": "c3b012f2-0dab-4328-8ba1-be783f6f4b27",
   "metadata": {},
   "source": [
    "**Using parser seperately**"
   ]
  },
  {
   "cell_type": "code",
   "execution_count": 27,
   "id": "8e30f9ee-3fd3-4be3-a0aa-b296f634365a",
   "metadata": {},
   "outputs": [
    {
     "data": {
      "text/plain": [
       "'Sono Bharatiya.'"
      ]
     },
     "execution_count": 27,
     "metadata": {},
     "output_type": "execute_result"
    }
   ],
   "source": [
    "parser.invoke(result)"
   ]
  },
  {
   "cell_type": "markdown",
   "id": "197f1347-e6b5-4e15-b988-46b544519b52",
   "metadata": {},
   "source": [
    "### using \"chain\"\n",
    "\n",
    "\" | \" this is chain operator, it takes output of the previous operation and pass it as input to next operation."
   ]
  },
  {
   "cell_type": "code",
   "execution_count": 28,
   "id": "45202c43-7d5d-4805-b442-316b4e7fc6ac",
   "metadata": {},
   "outputs": [],
   "source": [
    "chain = model | parser"
   ]
  },
  {
   "cell_type": "markdown",
   "id": "0b815899-5938-4217-8799-9256d8f1fc39",
   "metadata": {},
   "source": [
    "This chain has two steps: first the language model is called, then the result of that is passed to the output parser"
   ]
  },
  {
   "cell_type": "code",
   "execution_count": 30,
   "id": "39b0f51f-f02c-4cf8-a886-9653db9ddd21",
   "metadata": {},
   "outputs": [
    {
     "data": {
      "text/plain": [
       "'Io sono Bharatiya.'"
      ]
     },
     "execution_count": 30,
     "metadata": {},
     "output_type": "execute_result"
    }
   ],
   "source": [
    "chain.invoke(messages)"
   ]
  },
  {
   "cell_type": "markdown",
   "id": "f1c21c0d-e365-49ac-bdca-f82a0ed2e886",
   "metadata": {},
   "source": [
    "## Prompt Templates\n",
    "\n",
    "prompt templates takes the raw user input, applies transformations such as adding system message and formatting the user input according to a template, and return a prompt that is ready to pass into a language model."
   ]
  },
  {
   "cell_type": "code",
   "execution_count": 31,
   "id": "2c6a7da5-3396-47b8-b495-58be0d471bfe",
   "metadata": {},
   "outputs": [],
   "source": [
    "from langchain_core.prompts import ChatPromptTemplate"
   ]
  },
  {
   "cell_type": "code",
   "execution_count": 38,
   "id": "be8ca2f9-e493-409f-94c7-3b2c783546a8",
   "metadata": {},
   "outputs": [],
   "source": [
    "system_template = \"Translate the following into {language}:\"\n",
    "\n",
    "prompt_template = ChatPromptTemplate.from_messages(\n",
    "    [(\"system\", system_template), (\"user\", \"{text}\")] # we can chose the variable name.\n",
    ")"
   ]
  },
  {
   "cell_type": "code",
   "execution_count": 39,
   "id": "a2613568-4efa-4c53-a542-7cfbe9b09f1d",
   "metadata": {},
   "outputs": [
    {
     "data": {
      "text/plain": [
       "ChatPromptValue(messages=[SystemMessage(content='Translate the following into italian:'), HumanMessage(content='My nationality is Bharatiya')])"
      ]
     },
     "execution_count": 39,
     "metadata": {},
     "output_type": "execute_result"
    }
   ],
   "source": [
    "# Have to use same variable names used during creation of prompt_template\n",
    "result = prompt_template.invoke({\"language\": \"italian\", \"text\":\"My nationality is Bharatiya\"})\n",
    "result"
   ]
  },
  {
   "cell_type": "markdown",
   "id": "b92ae848-b653-491e-b9ff-bee04db804b6",
   "metadata": {},
   "source": [
    "### Chaining prompt_template, model and parser"
   ]
  },
  {
   "cell_type": "code",
   "execution_count": 40,
   "id": "d063343d-b676-4532-bb93-6a0d985084c0",
   "metadata": {},
   "outputs": [],
   "source": [
    "chain = prompt_template | model | parser"
   ]
  },
  {
   "cell_type": "code",
   "execution_count": 42,
   "id": "00d6d3a5-c8a5-4bce-a986-df013f741017",
   "metadata": {},
   "outputs": [
    {
     "data": {
      "text/plain": [
       "'La mia nazionalità è Bharatiya.'"
      ]
     },
     "execution_count": 42,
     "metadata": {},
     "output_type": "execute_result"
    }
   ],
   "source": [
    "chain.invoke({\"language\":\"italian\", \"text\": \"My nationality is Bharatiya\"})"
   ]
  }
 ],
 "metadata": {
  "kernelspec": {
   "display_name": "Python 3",
   "language": "python",
   "name": "python3"
  },
  "language_info": {
   "codemirror_mode": {
    "name": "ipython",
    "version": 3
   },
   "file_extension": ".py",
   "mimetype": "text/x-python",
   "name": "python",
   "nbconvert_exporter": "python",
   "pygments_lexer": "ipython3",
   "version": "3.12.3"
  }
 },
 "nbformat": 4,
 "nbformat_minor": 5
}
